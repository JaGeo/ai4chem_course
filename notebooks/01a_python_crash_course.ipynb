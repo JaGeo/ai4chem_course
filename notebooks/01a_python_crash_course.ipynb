{
 "cells": [
  {
   "attachments": {},
   "cell_type": "markdown",
   "metadata": {},
   "source": [
    "# Python/Juptyer Crash Course\n",
    "\n",
    "Some of you might have only little experience with Python and Jupyter notebooks. This introductory tutorial will help you to get started.\n",
    "\n",
    "## Jupyter notebooks\n",
    "\n",
    "\n",
    "Jupyter notebooks are web-based interactive computing platforms that allow you to create and share documents that contain live code, equations, visualizations and narrative text. They are commonly used for data analysis, scientific computing, and machine learning. Here are some steps to get started with Jupyter notebooks:\n",
    "\n",
    "- Running code: In a Jupyter notebook, you can write and run code in cells. To run a cell, simply click on it and press `Shift + Enter` or click the \"Run\" button in the toolbar.\n",
    "\n",
    "- Markdown cells: In addition to code cells, you can also create Markdown cells to write descriptive text. You can format the text using Markdown syntax to add headings, lists, links, etc.. \n",
    "\n",
    "- Saving and exporting: To save your notebook, click on the \"Save\" button in the toolbar. Jupyter notebooks have the extension `.ipynb` and can be exported to other formats like HTML, PDF, etc.\n",
    "\n",
    "- Keyboard Shortcuts: Jupyter notebooks have several keyboard shortcuts that can make your work faster and more efficient. For example, you can press `Esc` to enter command mode and `Enter` to enter edit mode. To see a list of all keyboard shortcuts, use the `Help` menu in the toolbar.\n",
    "\n",
    "## Google Colab\n",
    "\n",
    "For the purpose of this course, we will use [Google Colab](https://colab.research.google.com). As it allows us to have jupyter directly running in the browser without requiring additional installations (and of top of that we get access to GPUs).\n",
    "\n",
    "Every notebook will have the following `Open in Google Colab` button:\n",
    "\n",
    ":TODO include google colab button\n",
    "\n",
    "\n"
   ]
  },
  {
   "cell_type": "markdown",
   "metadata": {},
   "source": []
  }
 ],
 "metadata": {
  "kernelspec": {
   "display_name": "ai4chem",
   "language": "python",
   "name": "python3"
  },
  "language_info": {
   "name": "python",
   "version": "3.10.8 | packaged by conda-forge | (main, Nov 22 2022, 08:25:29) [Clang 14.0.6 ]"
  },
  "orig_nbformat": 4,
  "vscode": {
   "interpreter": {
    "hash": "1b67cd8bd7fb453260689a3f8dce5e6cda6487690bc5445e488953ccb1f74b34"
   }
  }
 },
 "nbformat": 4,
 "nbformat_minor": 2
}
