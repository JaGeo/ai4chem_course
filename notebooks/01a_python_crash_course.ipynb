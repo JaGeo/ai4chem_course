{
  "cells": [
    {
      "cell_type": "markdown",
      "metadata": {
        "colab_type": "text",
        "id": "view-in-github"
      },
      "source": [
        "<a href=\"https://colab.research.google.com/github/schwallergroup/ai4chem_course/blob/main/notebooks/01a_python_crash_course.ipynb\" target=\"_parent\"><img src=\"https://colab.research.google.com/assets/colab-badge.svg\" alt=\"Open In Colab\"/></a>"
      ]
    },
    {
      "attachments": {},
      "cell_type": "markdown",
      "metadata": {
        "id": "zPIotGcc8ya3"
      },
      "source": [
        "# Python/Juptyer Crash Course\n",
        "\n",
        "Some of you might have only little experience with Python and Jupyter notebooks. This introductory tutorial will help you to get started.\n",
        "\n",
        "## Jupyter notebooks\n",
        "\n",
        "\n",
        "Jupyter notebooks are web-based interactive computing platforms that allow you to create and share documents that contain live code, equations, visualizations and narrative text. They are commonly used for data analysis, scientific computing, and machine learning. Here are some steps to get started with Jupyter notebooks:\n",
        "\n",
        "- Running code: In a Jupyter notebook, you can write and run code in cells. To run a cell, simply click on it and press `Shift + Enter` or click the \"Run\" button in the toolbar.\n",
        "\n",
        "- Markdown cells: In addition to code cells, you can also create Markdown cells to write descriptive text. You can format the text using Markdown syntax to add headings, lists, links, etc.. \n",
        "\n",
        "- Saving and exporting: To save your notebook, click on the \"Save\" button in the toolbar. Jupyter notebooks have the extension `.ipynb` and can be exported to other formats like HTML, PDF, etc.\n",
        "\n",
        "- Keyboard Shortcuts: Jupyter notebooks have several keyboard shortcuts that can make your work faster and more efficient. For example, you can press `Esc` to enter command mode and `Enter` to enter edit mode. The most frequently used Keyboard Shortcuts are: `b` for creating a cell `b`elow the current cell, `a` for creating a cell `a`bove the current cell, `dd` for deleting the current cell.\n",
        "\n",
        "## Google Colab\n",
        "\n",
        "Colab allows you to use Jupyter notebooks with others without having to download, install, or run anything. "
      ]
    },
    {
      "attachments": {},
      "cell_type": "markdown",
      "metadata": {},
      "source": [
        "## Introduction to Python\n",
        "\n",
        "If you have not too much experience with Python programming, we strongly recommend to go through some online tutorials, such as the ones from [Kaggle Learn](https://www.kaggle.com/learn). This will help you to get started. Here is just a brief overview of the basic concepts.\n",
        "\n",
        "### Variables\n",
        "\n",
        "Variables are used to store values in a program. You can assign values to variables using the `=` operator. For example (you can run it using `SHIFT + ENTER` or clicking on `Run`):"
      ]
    },
    {
      "cell_type": "code",
      "execution_count": 3,
      "metadata": {},
      "outputs": [
        {
          "name": "stdout",
          "output_type": "stream",
          "text": [
            "15\n"
          ]
        }
      ],
      "source": [
        "x = 5 # assign 5 to the variable x\n",
        "y = 10 # assign 10 to the variable y\n",
        "z = x + y # add x and y, and assign the value to z\n",
        "print(z) # Output: 15"
      ]
    },
    {
      "attachments": {},
      "cell_type": "markdown",
      "metadata": {},
      "source": [
        "### Data Types\n",
        "\n",
        "Python has several built-in data types, including numbers (integer, float), strings, lists, tuples, and dictionaries. For example:"
      ]
    },
    {
      "cell_type": "code",
      "execution_count": 4,
      "metadata": {},
      "outputs": [],
      "source": [
        "# Numbers\n",
        "x = 5\n",
        "y = 5.5\n",
        "\n",
        "# Strings\n",
        "name = \"John Doe\"\n",
        "\n",
        "# Lists\n",
        "fruits = [\"apple\", \"banana\", \"cherry\"]\n",
        "\n",
        "# Tuples\n",
        "person = (\"John\", \"Doe\", 30)\n",
        "\n",
        "# Dictionaries\n",
        "person = {\n",
        "    \"first_name\": \"John\",\n",
        "    \"last_name\": \"Doe\",\n",
        "    \"age\": 30\n",
        "}\n"
      ]
    },
    {
      "attachments": {},
      "cell_type": "markdown",
      "metadata": {},
      "source": [
        "### Operators\n",
        "Python supports several types of operators, including arithmetic, comparison, and assignment operators. For example:"
      ]
    },
    {
      "cell_type": "code",
      "execution_count": 5,
      "metadata": {},
      "outputs": [
        {
          "name": "stdout",
          "output_type": "stream",
          "text": [
            "8\n",
            "True\n",
            "8\n"
          ]
        }
      ],
      "source": [
        "# Arithmetic\n",
        "x = 5\n",
        "y = 3\n",
        "z = x + y\n",
        "print(z) # Output: 8\n",
        "\n",
        "# Comparison\n",
        "x = 5\n",
        "y = 3\n",
        "print(x > y) # Output: True\n",
        "\n",
        "# Assignment\n",
        "x = 5\n",
        "x += 3\n",
        "print(x) # Output: 8"
      ]
    },
    {
      "attachments": {},
      "cell_type": "markdown",
      "metadata": {},
      "source": [
        "### Conditional Statements\n",
        "Conditional statements allow you to control the flow of a program based on certain conditions. You can play around by changing the value of `x`."
      ]
    },
    {
      "cell_type": "code",
      "execution_count": 7,
      "metadata": {},
      "outputs": [
        {
          "name": "stdout",
          "output_type": "stream",
          "text": [
            "x is less than or equal to 10\n"
          ]
        }
      ],
      "source": [
        "x = 5\n",
        "if x > 10:\n",
        "    print(\"x is greater than 10\")\n",
        "else:\n",
        "    print(\"x is less than or equal to 10\")"
      ]
    },
    {
      "attachments": {},
      "cell_type": "markdown",
      "metadata": {},
      "source": [
        "### Loops\n",
        "Loops allow you to repeat a block of code multiple times. There are two types of loops in Python: `for` and `while` loops. "
      ]
    },
    {
      "cell_type": "code",
      "execution_count": 8,
      "metadata": {},
      "outputs": [
        {
          "name": "stdout",
          "output_type": "stream",
          "text": [
            "apple\n",
            "banana\n",
            "cherry\n"
          ]
        }
      ],
      "source": [
        "# For Loop\n",
        "fruits = [\"apple\", \"banana\", \"cherry\"]\n",
        "for fruit in fruits:\n",
        "    print(fruit)\n",
        "\n",
        "# Output:\n",
        "# apple\n",
        "# banana\n",
        "# cherry"
      ]
    },
    {
      "cell_type": "code",
      "execution_count": 9,
      "metadata": {},
      "outputs": [
        {
          "name": "stdout",
          "output_type": "stream",
          "text": [
            "0\n",
            "1\n",
            "2\n",
            "3\n",
            "4\n"
          ]
        }
      ],
      "source": [
        "# While Loop\n",
        "x = 0\n",
        "while x < 5:\n",
        "    print(x)\n",
        "    x += 1\n",
        "\n",
        "# Output:\n",
        "# 0\n",
        "# 1\n",
        "# 2\n",
        "# 3\n",
        "# 4"
      ]
    },
    {
      "attachments": {},
      "cell_type": "markdown",
      "metadata": {},
      "source": [
        "### Functions\n",
        "Functions are reusable blocks of code that perform a specific task. You can define functions using the `def` keyword. "
      ]
    },
    {
      "cell_type": "code",
      "execution_count": 10,
      "metadata": {},
      "outputs": [
        {
          "name": "stdout",
          "output_type": "stream",
          "text": [
            "Hello, Philippe\n"
          ]
        }
      ],
      "source": [
        "def greet(name):\n",
        "    print(\"Hello, \" + name)\n",
        "\n",
        "greet(\"Philippe\") # Output: Hello, Philippe"
      ]
    },
    {
      "attachments": {},
      "cell_type": "markdown",
      "metadata": {},
      "source": [
        "This is just a brief introduction to Python programming. There are many more advanced topics and features in Python, but these basics should give you a good start.\n",
        "\n",
        "If you want more exercises for basic Python Programming go through the `Intro to Programming` and `Python` courses on [Kaggle Learn](https://www.kaggle.com/learn). "
      ]
    }
  ],
  "metadata": {
    "colab": {
      "include_colab_link": true,
      "provenance": []
    },
    "kernelspec": {
      "display_name": "ai4chem",
      "language": "python",
      "name": "python3"
    },
    "language_info": {
      "codemirror_mode": {
        "name": "ipython",
        "version": 3
      },
      "file_extension": ".py",
      "mimetype": "text/x-python",
      "name": "python",
      "nbconvert_exporter": "python",
      "pygments_lexer": "ipython3",
      "version": "3.10.8"
    },
    "orig_nbformat": 4,
    "vscode": {
      "interpreter": {
        "hash": "1b67cd8bd7fb453260689a3f8dce5e6cda6487690bc5445e488953ccb1f74b34"
      }
    }
  },
  "nbformat": 4,
  "nbformat_minor": 0
}
