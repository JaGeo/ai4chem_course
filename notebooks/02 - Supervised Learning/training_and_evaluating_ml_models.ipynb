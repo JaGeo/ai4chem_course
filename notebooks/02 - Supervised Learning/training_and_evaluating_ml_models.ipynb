{
 "cells": [
  {
   "cell_type": "markdown",
   "id": "f7b6d7b6-698e-4ea2-b8e9-bad6f279fcfe",
   "metadata": {},
   "source": [
    "<a href=\"https://colab.research.google.com/github/schwallergroup/ai4chem_course/blob/scikit_learn/notebooks/02%20-%20Supervised%20Learning/training_and_evaluating_ml_models.ipynb\" target=\"_parent\"><img src=\"https://colab.research.google.com/assets/colab-badge.svg\" alt=\"Open In Colab\"/></a>"
   ]
  },
  {
   "cell_type": "markdown",
   "id": "a15d3c35",
   "metadata": {},
   "source": [
    "### Scikit-learn\n",
    "Scikit-learn is an open source machine learning library that supports supervised and unsupervised learning. It also provides various tools for model fitting, data preprocessing, model selection, model evaluation, and many other utilities. It is widely used in industry and academia, and a wealth of tutorials and code snippets are available online.\n",
    "We will learn to use scikit-learn to do machine learning work. You can also browse the scikit-learn [user guide](https://scikit-learn.org/stable/user_guide.html) and [tutorials](https://scikit-learn.org/stable/tutorial/index.html) for additional details.\n",
    "### Essential Libraries and Tools \n",
    "Scikit-learn depends on two other Python packages, NumPy and SciPy. For plotting and interactive development, you should also install matplotlib, IPython, and the Jupyter Notebook.\n",
    "- **NumPy** is one of the fundamental packages for scientific computing in Python. It contains functionality for multidimensional arrays, high-level mathematical functions such as linear algebra operations and the Fourier transform, and pseudorandom number generators. In scikit-learn, the NumPy array is the fundamental data structure. scikit-learn takes in data in the form of NumPy arrays. Any data you’re using will have to be con‐ verted to a NumPy array.\n",
    "- **SciPy** is a collection of functions for scientific computing in Python. It provides, among other functionality, advanced linear algebra routines, mathematical function optimization, signal processing, special mathematical functions, and statistical distributions. scikit-learn draws from SciPy’s collection of functions for implementing its algorithms.\n",
    "- **Matplotlib** is the primary scientific plotting library in Python. It provides functions for making publication-quality visualizations such as line charts, histograms, scatter plots, and so on.\n",
    "- **Pandas** Python library for data wrangling and analysis. It is built around a data structure called the DataFrame that is similar to an Excel spreadsheet. It can ingest from a great variety of file formats and databases, like SQL, Excel files, and comma-separated values (CSV) files."
   ]
  },
  {
   "cell_type": "markdown",
   "id": "44fbf541",
   "metadata": {},
   "source": [
    "We will first install the required libraries. We also need `RDKit` library to process and analyze molecules, like calculating molecular descriptors."
   ]
  },
  {
   "cell_type": "code",
   "execution_count": null,
   "id": "f4688b74",
   "metadata": {},
   "outputs": [],
   "source": [
    "!pip install numpy scipy matplotlib scikit-learn pandas rdkit"
   ]
  },
  {
   "cell_type": "markdown",
   "id": "0dba2fc2",
   "metadata": {},
   "source": [
    "# Introduction to traditional ML\n",
    "\n",
    "## Supervised learning"
   ]
  },
  {
   "cell_type": "markdown",
   "id": "7b5622c1-38ec-4e45-b6bb-2547a31408f6",
   "metadata": {},
   "source": [
    "# Introduction to traditional ML.\n",
    "\n",
    "## Supervised learning\n",
    "\n",
    "Training a model to take inputs X and return output y.\n",
    "\n",
    "As you have seen in class, for this type of learning, we have two variants:\n",
    "\n",
    "- Classification\n",
    "- Regression\n",
    "\n",
    "Linear regression is one example of suppervised learning for regression."
   ]
  },
  {
   "cell_type": "markdown",
   "id": "cd7ee09d-524b-4f90-ac5c-cc37187ba4c4",
   "metadata": {},
   "source": [
    "# Week 2 tutorial - AI 4 Chemistry\n",
    "\n",
    "## Index:\n",
    "\n",
    "- Classification\n",
    ".\n",
    ".\n",
    ".\n",
    "\n",
    "### TODO"
   ]
  },
  {
   "cell_type": "markdown",
   "id": "4369daf7-90c9-4b68-abb9-ac5d80330dd8",
   "metadata": {
    "tags": []
   },
   "source": [
    "# Regression\n",
    "\n",
    "### TODO: Improve this introduction based on the ESOL paper, why is solub. prediction important?\n",
    "\n",
    "One problem in both academic and industrial chemistry is predicting solubility. For instance we might know that some molecule has good potential as a ligand for some relevant reaction, however when you synthesize it, you realize it's not soluble under your already optimized reaction conditions! 😥\n",
    "\n",
    "It would be extremely useful to know the solubility of my molecule, **before I even try to synthesize it**!\n",
    "\n",
    "---\n",
    "\n",
    "In this task we will try to solve this using supervised learning. In particular, we will train a regression model using the very convenient [scikit-learn](https://www.kaggle.com/competitions/MerckActivity/data) Python library, to predict solubility based on some molecular descriptors."
   ]
  },
  {
   "cell_type": "code",
   "execution_count": 13,
   "id": "60b43b84-aaf6-48cf-893f-3e42267846bf",
   "metadata": {},
   "outputs": [],
   "source": [
    "# TODO: Let's start with loading the data, visualizing some molecules and their solubility\n",
    "# Let's also see some stats. e.g. size of dataset, distribution of solubility, etc.\n",
    "\n",
    "# TODO: Generate features\n",
    "# TODO do a train/test split"
   ]
  },
  {
   "cell_type": "code",
   "execution_count": 3,
   "id": "dfcce8c9-6a29-424b-af64-ed669a5c0070",
   "metadata": {},
   "outputs": [],
   "source": [
    "# TODO: Let's give an introduction to scikit learn by doing a simple linear regression and see the results.\n",
    "# TODO Introduce sckit-learn, and use a RF model for this.\n",
    "import tempfile\n",
    "from sklearn.manifold import Isomap\n",
    "from sklearn.neighbors import KNeighborsTransformer\n",
    "from sklearn.pipeline import make_pipeline\n",
    "from sklearn.datasets import make_regression\n",
    "cache_path = tempfile.gettempdir()  # we use a temporary folder here\n",
    "X, _ = make_regression(n_samples=50, n_features=25, random_state=0)\n",
    "estimator = make_pipeline(\n",
    "    KNeighborsTransformer(mode='distance'),\n",
    "    Isomap(n_components=3, metric='precomputed'),\n",
    "    memory=cache_path)\n",
    "X_embedded = estimator.fit_transform(X)\n",
    "X_embedded.shape"
   ]
  },
  {
   "cell_type": "code",
   "execution_count": 16,
   "id": "75fbad9e-a85a-4e1d-a9fa-39aaa5b31bd1",
   "metadata": {},
   "outputs": [],
   "source": [
    "# TODO: Let's train another model (this can be an excercise)\n",
    "\n",
    "# EXERCISE: Implement random forest and and XGBoost models using scikit learn"
   ]
  },
  {
   "cell_type": "markdown",
   "id": "f7b8ae8d-2a3d-4634-aeb6-3e52df6956fb",
   "metadata": {},
   "source": [
    "# As we see, there are many possible models we can use for this task. But which one is better?\n",
    "\n",
    "In addition, each model has a set of hyperparameters that we need to tune ourselves. How do we select them?\n",
    "\n",
    "This is an important part of machine learning! What we want to know is: What is the best combination of model + model hyperparameters for our task? \n",
    "As you've seen in the course, common strategies to evaluate and compare model's performance include:\n",
    "\n",
    "- Splitting dataset in train/validation/test.\n",
    "- Doing cross-validation for hyperparameter tuning."
   ]
  },
  {
   "cell_type": "code",
   "execution_count": 7,
   "id": "8e76a7d2-8e3a-466d-9dad-f83681ede02c",
   "metadata": {},
   "outputs": [],
   "source": [
    "# TODO: Split data in train/valid/test\n",
    "\n",
    "# Retrain the models on the train set, and compare them using the validation set.\n",
    "\n",
    "# What model is the best?"
   ]
  },
  {
   "cell_type": "code",
   "execution_count": 14,
   "id": "f494286d-5d26-4aa7-9b55-13de0ce0446e",
   "metadata": {},
   "outputs": [],
   "source": [
    "# TODO: Let's do cross-validation\n",
    "\n",
    "# Optimize the hyperparameters for XGBoost, and again compare performance"
   ]
  },
  {
   "cell_type": "code",
   "execution_count": 15,
   "id": "7b9494e4-f0bb-441d-981b-65da64b96254",
   "metadata": {},
   "outputs": [],
   "source": [
    "# TODO: Finally, compare all models on the test set.\n",
    "# Explain that test set should never be seen by models.\n",
    "# This is all completely new data so we know how it would work in real life."
   ]
  },
  {
   "cell_type": "markdown",
   "id": "86ba8f80-fd59-44f7-beb5-31387ec376d3",
   "metadata": {},
   "source": [
    "---\n",
    "\n",
    "# Classification\n",
    "\n",
    "We now turn our attention towards the other type of supervised learning: classification.\n",
    "\n",
    "Many questions in chemistry can be framed as a classification task: \n",
    "\n",
    "- Will this molecule act as a nucleophile or electrophile in my reaction?\n",
    "- What is the smell of this substance? (fruity, citrus, sweet, ...)\n",
    "\n",
    "<div>\n",
    "<img src=\"img/is_this_a_meme.png\" width=\"500\"/>\n",
    "</div>\n",
    "\n",
    "\n",
    "--- \n",
    "\n",
    "### TODO: Let's get a dataset for classification in molecules. Let's say it's prediction of toxicity.\n",
    "\n",
    "What we want to know is, is the molecule shown toxic or not?\n",
    "\n",
    "##### TODO insert image of molec\n",
    "\n",
    "Let's see if a model can tell what molecules are toxic!\n",
    "\n",
    "This would be very useful for instance in drug discovery, where we want to know if a molecule has potential as a drug, **even before we synthesize it**.\n",
    "\n",
    "## To do this, we will use [mordred](http://mordred-descriptor.github.io/documentation/master/descriptors.html) to generate some molecular descriptors, and will again train some models using scikit-learn using these features.\n"
   ]
  },
  {
   "cell_type": "code",
   "execution_count": 2,
   "id": "df19e380-eaf6-4f72-851c-ccb226f1611d",
   "metadata": {},
   "outputs": [],
   "source": [
    "# TODO load dataset\n",
    "# TODO small visualization of dataset, let's see some molecules and the property we want to predict."
   ]
  },
  {
   "cell_type": "code",
   "execution_count": null,
   "id": "ad84a50b-291f-4756-ad52-43907fe4278d",
   "metadata": {},
   "outputs": [],
   "source": [
    "# TODO train a Random Forest classification model"
   ]
  },
  {
   "cell_type": "code",
   "execution_count": null,
   "id": "574fdf49-bdd0-4112-8b5e-2d8e62baab63",
   "metadata": {},
   "outputs": [],
   "source": [
    "# TODO evaluate model using metrics for this (AUC-ROC, accuracy, etc)"
   ]
  },
  {
   "cell_type": "code",
   "execution_count": null,
   "id": "ede4918c-31a3-4827-81ea-d90935e0e709",
   "metadata": {},
   "outputs": [],
   "source": [
    "# TODO explore feature importance\n",
    "# Do these features make sense?\n",
    "# Find out in moldred documentation what the features are and think why this is important for the model."
   ]
  },
  {
   "cell_type": "code",
   "execution_count": 11,
   "id": "081c462e-0a0b-477c-a7a8-06ae6c613389",
   "metadata": {},
   "outputs": [],
   "source": [
    "# TODO train another model (maybe XGBoost) and explain using SHAP"
   ]
  },
  {
   "cell_type": "code",
   "execution_count": null,
   "id": "494863e8-5d37-4e6a-b4df-672e0ba3781e",
   "metadata": {},
   "outputs": [],
   "source": [
    "\n",
    "\n",
    "\n",
    "\n",
    "\n",
    "\n",
    "\n",
    "\n"
   ]
  },
  {
   "cell_type": "markdown",
   "id": "73bdd0b1-0584-4dbe-9dc4-7dd295e4042b",
   "metadata": {},
   "source": [
    "# Tasks for today: \n",
    "\n",
    "- scikit learn\n",
    "- classification\n",
    "- regression: [ESOL dataset](https://www.kaggle.com/competitions/MerckActivity/data)\n",
    "- XGBoost: [Merck kaggle challenge](https://www.kaggle.com/competitions/MerckActivity/data)\n",
    "- SHAP values + feature importance\n",
    "- Evaluation of ML models\n",
    "- Cross-validation: hyperparameter tuning\n",
    "- Train/valid/test split"
   ]
  },
  {
   "cell_type": "code",
   "execution_count": null,
   "id": "7fdfcd5a-2969-4f05-8641-88ba0d413c12",
   "metadata": {},
   "outputs": [],
   "source": []
  }
 ],
 "metadata": {
  "kernelspec": {
   "display_name": "Python 3.8.10 64-bit",
   "language": "python",
   "name": "python3"
  },
  "language_info": {
   "codemirror_mode": {
    "name": "ipython",
    "version": 3
   },
   "file_extension": ".py",
   "mimetype": "text/x-python",
   "name": "python",
   "nbconvert_exporter": "python",
   "pygments_lexer": "ipython3",
   "version": "3.8.10"
  },
  "vscode": {
   "interpreter": {
    "hash": "31f2aee4e71d21fbe5cf8b01ff0e069b9275f58929596ceb00d14d90e3e16cd6"
   }
  }
 },
 "nbformat": 4,
 "nbformat_minor": 5
}
